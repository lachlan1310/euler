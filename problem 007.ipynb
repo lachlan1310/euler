{
 "cells": [
  {
   "cell_type": "code",
   "execution_count": 1,
   "metadata": {},
   "outputs": [],
   "source": [
    "# https://projecteuler.net/problem=7\n",
    "\n",
    "# By listing the first six prime numbers: 2, 3, 5, 7, 11, and 13, \n",
    "# we can see that the 6th prime is 13.\n",
    "\n",
    "# What is the 10 001st prime number?"
   ]
  },
  {
   "cell_type": "code",
   "execution_count": 2,
   "metadata": {},
   "outputs": [],
   "source": [
    "import numpy as np"
   ]
  },
  {
   "cell_type": "code",
   "execution_count": 13,
   "metadata": {},
   "outputs": [],
   "source": [
    "n = 200000\n",
    "nums = np.arange(0, n+1, dtype=int)\n",
    "is_prime = np.ones_like(nums, dtype=np.int8)\n",
    "# for p in range(3, int(np.sqrt(n))):\n",
    "for i in range(2, nums.shape[0]):\n",
    "    if is_prime[i] == 1:\n",
    "        is_prime = np.where(nums % nums[i] == 0, 0, is_prime)\n",
    "        is_prime[i] = 1\n",
    "    "
   ]
  },
  {
   "cell_type": "code",
   "execution_count": 16,
   "metadata": {},
   "outputs": [],
   "source": [
    "primes = np.where(is_prime)[0]"
   ]
  },
  {
   "cell_type": "code",
   "execution_count": 19,
   "metadata": {},
   "outputs": [
    {
     "data": {
      "text/plain": [
       "104743"
      ]
     },
     "execution_count": 19,
     "metadata": {},
     "output_type": "execute_result"
    }
   ],
   "source": [
    "primes[10001]"
   ]
  },
  {
   "cell_type": "code",
   "execution_count": null,
   "metadata": {},
   "outputs": [],
   "source": []
  }
 ],
 "metadata": {
  "kernelspec": {
   "display_name": "Python 3",
   "language": "python",
   "name": "python3"
  },
  "language_info": {
   "codemirror_mode": {
    "name": "ipython",
    "version": 3
   },
   "file_extension": ".py",
   "mimetype": "text/x-python",
   "name": "python",
   "nbconvert_exporter": "python",
   "pygments_lexer": "ipython3",
   "version": "3.8.3"
  }
 },
 "nbformat": 4,
 "nbformat_minor": 4
}

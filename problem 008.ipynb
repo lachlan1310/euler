{
 "cells": [
  {
   "cell_type": "code",
   "execution_count": 14,
   "metadata": {},
   "outputs": [],
   "source": [
    "# problem 8\n",
    "\n",
    "all_digits = \"\"\"\n",
    "73167176531330624919225119674426574742355349194934\n",
    "96983520312774506326239578318016984801869478851843\n",
    "85861560789112949495459501737958331952853208805511\n",
    "12540698747158523863050715693290963295227443043557\n",
    "66896648950445244523161731856403098711121722383113\n",
    "62229893423380308135336276614282806444486645238749\n",
    "30358907296290491560440772390713810515859307960866\n",
    "70172427121883998797908792274921901699720888093776\n",
    "65727333001053367881220235421809751254540594752243\n",
    "52584907711670556013604839586446706324415722155397\n",
    "53697817977846174064955149290862569321978468622482\n",
    "83972241375657056057490261407972968652414535100474\n",
    "82166370484403199890008895243450658541227588666881\n",
    "16427171479924442928230863465674813919123162824586\n",
    "17866458359124566529476545682848912883142607690042\n",
    "24219022671055626321111109370544217506941658960408\n",
    "07198403850962455444362981230987879927244284909188\n",
    "84580156166097919133875499200524063689912560717606\n",
    "05886116467109405077541002256983155200055935729725\n",
    "71636269561882670428252483600823257530420752963450\n",
    "\"\"\".replace('\\n','')\n",
    "import numpy as np"
   ]
  },
  {
   "cell_type": "code",
   "execution_count": 24,
   "metadata": {},
   "outputs": [],
   "source": [
    "all_digits = [int(digit) for digit in all_digits]"
   ]
  },
  {
   "cell_type": "code",
   "execution_count": 33,
   "metadata": {},
   "outputs": [
    {
     "name": "stdout",
     "output_type": "stream",
     "text": [
      "5000940\n",
      "[7, 3, 1, 6, 7, 1, 7, 6, 5, 3, 1, 3, 3]\n",
      "9797760\n",
      "[4, 9, 1, 9, 2, 2, 5, 1, 1, 9, 6, 7, 4]\n",
      "13063680\n",
      "[9, 2, 2, 5, 1, 1, 9, 6, 7, 4, 4, 2, 6]\n",
      "25401600\n",
      "[2, 5, 1, 1, 9, 6, 7, 4, 4, 2, 6, 5, 7]\n",
      "50803200\n",
      "[5, 1, 1, 9, 6, 7, 4, 4, 2, 6, 5, 7, 4]\n",
      "71124480\n",
      "[1, 1, 9, 6, 7, 4, 4, 2, 6, 5, 7, 4, 7]\n",
      "284497920\n",
      "[1, 9, 6, 7, 4, 4, 2, 6, 5, 7, 4, 7, 4]\n",
      "568995840\n",
      "[9, 6, 7, 4, 4, 2, 6, 5, 7, 4, 7, 4, 2]\n",
      "1020366720\n",
      "[5, 3, 4, 9, 1, 9, 4, 9, 3, 4, 9, 6, 9]\n",
      "1632586752\n",
      "[3, 4, 9, 1, 9, 4, 9, 3, 4, 9, 6, 9, 8]\n",
      "2040733440\n",
      "[9, 1, 9, 4, 9, 3, 4, 9, 6, 9, 8, 3, 5]\n",
      "2091059712\n",
      "[9, 7, 8, 1, 7, 9, 7, 7, 8, 4, 6, 1, 7]\n"
     ]
    }
   ],
   "source": [
    "greatest_product = 0\n",
    "n_adj = 13\n",
    "for i in range(len(all_digits)-n_adj):\n",
    "    curr_product = np.product(all_digits[i:i+n_adj])\n",
    "    if curr_product > greatest_product:\n",
    "        greatest_product = curr_product\n",
    "        print(curr_product)\n",
    "        print(all_digits[i:i+n_adj])\n",
    "#     greatest_product = max(np.product(adjacent),greatest_product)"
   ]
  },
  {
   "cell_type": "code",
   "execution_count": 31,
   "metadata": {},
   "outputs": [
    {
     "data": {
      "text/plain": [
       "2091059712"
      ]
     },
     "execution_count": 31,
     "metadata": {},
     "output_type": "execute_result"
    }
   ],
   "source": [
    "greatest_product"
   ]
  },
  {
   "cell_type": "code",
   "execution_count": null,
   "metadata": {},
   "outputs": [],
   "source": []
  }
 ],
 "metadata": {
  "kernelspec": {
   "display_name": "Python 3",
   "language": "python",
   "name": "python3"
  },
  "language_info": {
   "codemirror_mode": {
    "name": "ipython",
    "version": 3
   },
   "file_extension": ".py",
   "mimetype": "text/x-python",
   "name": "python",
   "nbconvert_exporter": "python",
   "pygments_lexer": "ipython3",
   "version": "3.8.3"
  }
 },
 "nbformat": 4,
 "nbformat_minor": 4
}

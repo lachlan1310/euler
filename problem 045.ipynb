{
 "cells": [
  {
   "cell_type": "code",
   "execution_count": 1,
   "metadata": {},
   "outputs": [],
   "source": [
    "def t(n):\n",
    "    return n*(n+1)//2\n",
    "\n",
    "def p(n):\n",
    "    return n*(3*n-1)//2\n",
    "\n",
    "def h(n):\n",
    "    return n*(2*n-1)"
   ]
  },
  {
   "cell_type": "code",
   "execution_count": 2,
   "metadata": {},
   "outputs": [],
   "source": [
    "ts, ps, hs = [], [], []\n",
    "for i in range(1000000):\n",
    "    ts.append(t(i)), ps.append(p(i)), hs.append(h(i))"
   ]
  },
  {
   "cell_type": "code",
   "execution_count": 4,
   "metadata": {},
   "outputs": [
    {
     "name": "stdout",
     "output_type": "stream",
     "text": [
      "{0, 1, 40755, 1533776805}\n"
     ]
    }
   ],
   "source": [
    "print(set(ts).intersection(set(ps)).intersection(set(hs)))"
   ]
  },
  {
   "cell_type": "code",
   "execution_count": null,
   "metadata": {},
   "outputs": [],
   "source": []
  }
 ],
 "metadata": {
  "kernelspec": {
   "display_name": "Python 3",
   "language": "python",
   "name": "python3"
  },
  "language_info": {
   "codemirror_mode": {
    "name": "ipython",
    "version": 3
   },
   "file_extension": ".py",
   "mimetype": "text/x-python",
   "name": "python",
   "nbconvert_exporter": "python",
   "pygments_lexer": "ipython3",
   "version": "3.8.3"
  }
 },
 "nbformat": 4,
 "nbformat_minor": 4
}

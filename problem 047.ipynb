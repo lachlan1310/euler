{
 "cells": [
  {
   "cell_type": "code",
   "execution_count": 1,
   "metadata": {},
   "outputs": [],
   "source": [
    "import euler\n",
    "import numpy as np"
   ]
  },
  {
   "cell_type": "code",
   "execution_count": 8,
   "metadata": {},
   "outputs": [],
   "source": [
    "n = 500_000\n",
    "primes = euler.primes_upto(n)"
   ]
  },
  {
   "cell_type": "code",
   "execution_count": 9,
   "metadata": {},
   "outputs": [],
   "source": [
    "primes_set = set(primes)"
   ]
  },
  {
   "cell_type": "code",
   "execution_count": 10,
   "metadata": {},
   "outputs": [],
   "source": [
    "from tqdm.notebook import tqdm"
   ]
  },
  {
   "cell_type": "code",
   "execution_count": null,
   "metadata": {},
   "outputs": [
    {
     "data": {
      "application/vnd.jupyter.widget-view+json": {
       "model_id": "9cc8cceeb90143a399e029377addd8de",
       "version_major": 2,
       "version_minor": 0
      },
      "text/plain": [
       "HBox(children=(FloatProgress(value=0.0, max=499998.0), HTML(value='')))"
      ]
     },
     "metadata": {},
     "output_type": "display_data"
    },
    {
     "name": "stdout",
     "output_type": "stream",
     "text": [
      "range(134044, 134046) [{3, 491, 13, 7}, {2, 31, 47, 23}, {17, 83, 19, 5}, {11, 2, 3, 677}]\n"
     ]
    }
   ],
   "source": [
    "prime_factors = [set([1]), set([1])]\n",
    "for i in tqdm(range(2, 500_000)):\n",
    "    prime_factors.append(set())\n",
    "    if i in primes_set:\n",
    "        prime_factors[i].add(i)\n",
    "    j = 0\n",
    "    num = i\n",
    "    while primes[j] <= num:\n",
    "        if num % primes[j] == 0:\n",
    "            num = num // primes[j]\n",
    "            prime_factors[i].add(primes[j])\n",
    "        else:\n",
    "            j+= 1\n",
    "    if i > 10:\n",
    "        if all([len(unique_factors) == 4 for unique_factors in prime_factors[-4:]]):\n",
    "            print(range(i-2,i), prime_factors[-4:])"
   ]
  },
  {
   "cell_type": "code",
   "execution_count": 29,
   "metadata": {},
   "outputs": [
    {
     "data": {
      "text/plain": [
       "dict_values([{3}, {2}, {5}, {2, 3}, {7}, {2}, {3}, {2, 5}, {11}])"
      ]
     },
     "execution_count": 29,
     "metadata": {},
     "output_type": "execute_result"
    }
   ],
   "source": [
    "prime_factor_dictionary.values()"
   ]
  },
  {
   "cell_type": "code",
   "execution_count": 26,
   "metadata": {},
   "outputs": [
    {
     "data": {
      "text/plain": [
       "defaultdict(set, {3: {3}, 4: {2}, 5: {5}, 6: {2, 3}, 7: {7}, 8: {2}, 9: {3}})"
      ]
     },
     "execution_count": 26,
     "metadata": {},
     "output_type": "execute_result"
    }
   ],
   "source": [
    "prime_factor_dictionary"
   ]
  },
  {
   "cell_type": "code",
   "execution_count": null,
   "metadata": {},
   "outputs": [],
   "source": []
  }
 ],
 "metadata": {
  "kernelspec": {
   "display_name": "Python 3",
   "language": "python",
   "name": "python3"
  },
  "language_info": {
   "codemirror_mode": {
    "name": "ipython",
    "version": 3
   },
   "file_extension": ".py",
   "mimetype": "text/x-python",
   "name": "python",
   "nbconvert_exporter": "python",
   "pygments_lexer": "ipython3",
   "version": "3.8.3"
  }
 },
 "nbformat": 4,
 "nbformat_minor": 4
}

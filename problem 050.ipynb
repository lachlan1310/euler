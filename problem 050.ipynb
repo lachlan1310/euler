{
 "cells": [
  {
   "cell_type": "code",
   "execution_count": 4,
   "metadata": {},
   "outputs": [],
   "source": [
    "from euler import primes_upto\n",
    "import numpy as np"
   ]
  },
  {
   "cell_type": "code",
   "execution_count": 81,
   "metadata": {},
   "outputs": [],
   "source": [
    "primes = primes_upto(1_000_000)"
   ]
  },
  {
   "cell_type": "code",
   "execution_count": 82,
   "metadata": {},
   "outputs": [],
   "source": [
    "primes_set = set(primes)"
   ]
  },
  {
   "cell_type": "code",
   "execution_count": 83,
   "metadata": {},
   "outputs": [],
   "source": [
    "from numba import njit"
   ]
  },
  {
   "cell_type": "code",
   "execution_count": 94,
   "metadata": {},
   "outputs": [],
   "source": [
    "@njit\n",
    "def func(primes, primes_set, primes_sum):\n",
    "    longest_sequence = 0\n",
    "    max_cons_prime_sum = 0\n",
    "    for i in range(primes.shape[0]):\n",
    "        for j in range(i+1+longest_sequence, primes.shape[0]):\n",
    "            cons_prime_sum = primes_sum[j]-primes_sum[i]\n",
    "            if cons_prime_sum in primes_set and j-i > longest_sequence:\n",
    "                max_cons_prime_sum = cons_prime_sum\n",
    "                longest_sequence = j-i\n",
    "            if cons_prime_sum > max(primes):\n",
    "                break\n",
    "    return (longest_sequence, max_cons_prime_sum)"
   ]
  },
  {
   "cell_type": "code",
   "execution_count": 95,
   "metadata": {},
   "outputs": [],
   "source": [
    "primes_sum = np.cumsum(primes)"
   ]
  },
  {
   "cell_type": "code",
   "execution_count": 96,
   "metadata": {},
   "outputs": [
    {
     "name": "stderr",
     "output_type": "stream",
     "text": [
      "C:\\ProgramData\\Anaconda3\\lib\\site-packages\\numba\\core\\ir_utils.py:2031: NumbaPendingDeprecationWarning: \u001b[1m\n",
      "Encountered the use of a type that is scheduled for deprecation: type 'reflected set' found for argument 'primes_set' of function 'func'.\n",
      "\n",
      "For more information visit http://numba.pydata.org/numba-doc/latest/reference/deprecation.html#deprecation-of-reflection-for-list-and-set-types\n",
      "\u001b[1m\n",
      "File \"<ipython-input-94-91dde6d44ea6>\", line 2:\u001b[0m\n",
      "\u001b[1m@njit\n",
      "\u001b[1mdef func(primes, primes_set, primes_sum):\n",
      "\u001b[0m\u001b[1m^\u001b[0m\u001b[0m\n",
      "\u001b[0m\n",
      "  warnings.warn(NumbaPendingDeprecationWarning(msg, loc=loc))\n"
     ]
    },
    {
     "name": "stdout",
     "output_type": "stream",
     "text": [
      "4.38 s ± 9.21 ms per loop (mean ± std. dev. of 7 runs, 1 loop each)\n"
     ]
    }
   ],
   "source": [
    "%%timeit \n",
    "(longest_sequence, max_cons_prime_sum) = func(primes, primes_set, primes_sum)"
   ]
  },
  {
   "cell_type": "code",
   "execution_count": null,
   "metadata": {},
   "outputs": [],
   "source": []
  }
 ],
 "metadata": {
  "kernelspec": {
   "display_name": "Python 3",
   "language": "python",
   "name": "python3"
  },
  "language_info": {
   "codemirror_mode": {
    "name": "ipython",
    "version": 3
   },
   "file_extension": ".py",
   "mimetype": "text/x-python",
   "name": "python",
   "nbconvert_exporter": "python",
   "pygments_lexer": "ipython3",
   "version": "3.8.3"
  }
 },
 "nbformat": 4,
 "nbformat_minor": 4
}

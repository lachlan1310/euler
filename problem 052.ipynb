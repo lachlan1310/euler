{
 "cells": [
  {
   "cell_type": "code",
   "execution_count": 15,
   "metadata": {},
   "outputs": [],
   "source": [
    "f = '125874'"
   ]
  },
  {
   "cell_type": "code",
   "execution_count": 16,
   "metadata": {},
   "outputs": [
    {
     "data": {
      "text/plain": [
       "'125874'"
      ]
     },
     "execution_count": 16,
     "metadata": {},
     "output_type": "execute_result"
    }
   ],
   "source": [
    "str(f)"
   ]
  },
  {
   "cell_type": "code",
   "execution_count": 20,
   "metadata": {},
   "outputs": [],
   "source": [
    "x = set([*f])"
   ]
  },
  {
   "cell_type": "code",
   "execution_count": 23,
   "metadata": {},
   "outputs": [
    {
     "name": "stdout",
     "output_type": "stream",
     "text": [
      "yay\n"
     ]
    }
   ],
   "source": [
    "if set([*f]) == x:\n",
    "    print('yay')"
   ]
  },
  {
   "cell_type": "code",
   "execution_count": 25,
   "metadata": {},
   "outputs": [
    {
     "name": "stdout",
     "output_type": "stream",
     "text": [
      "0\n",
      "{'0'}\n",
      "{'0'}\n",
      "{'0'}\n",
      "{'0'}\n",
      "{'0'}\n",
      "142857\n",
      "{'5', '1', '7', '2', '4', '8'}\n",
      "{'5', '1', '7', '2', '4', '8'}\n",
      "{'5', '1', '7', '2', '4', '8'}\n",
      "{'5', '1', '7', '2', '4', '8'}\n",
      "{'5', '1', '7', '2', '4', '8'}\n"
     ]
    }
   ],
   "source": [
    "for i in range(1_000_000):\n",
    "    digits = set([*str(i)])\n",
    "    valid = True\n",
    "    for x in range(2, 7):\n",
    "        if set([*str(i*x)]) != digits:\n",
    "            valid = False\n",
    "            continue\n",
    "    if valid:\n",
    "        print(i)\n",
    "        for x in range(2, 7):\n",
    "            print(set([*str(i*x)]))"
   ]
  },
  {
   "cell_type": "code",
   "execution_count": null,
   "metadata": {},
   "outputs": [],
   "source": []
  }
 ],
 "metadata": {
  "kernelspec": {
   "display_name": "Python 3",
   "language": "python",
   "name": "python3"
  },
  "language_info": {
   "codemirror_mode": {
    "name": "ipython",
    "version": 3
   },
   "file_extension": ".py",
   "mimetype": "text/x-python",
   "name": "python",
   "nbconvert_exporter": "python",
   "pygments_lexer": "ipython3",
   "version": "3.8.3"
  }
 },
 "nbformat": 4,
 "nbformat_minor": 4
}
